{
 "cells": [
  {
   "cell_type": "code",
   "execution_count": 52,
   "metadata": {},
   "outputs": [],
   "source": [
    "# Libs\n",
    "import pandas as pd\n",
    "import numpy as np\n",
    "\n",
    "# Data viz\n",
    "import plotly as px\n",
    "import plotly.graph_objects as go"
   ]
  },
  {
   "cell_type": "code",
   "execution_count": 20,
   "metadata": {},
   "outputs": [],
   "source": [
    "df = pd.read_csv(r'C:\\Users\\mathem23\\OneDrive - Braskem S.A\\Área de Trabalho\\Estudos\\FIAP\\#3 - Tech Challenge\\Source\\pnad_covid.csv', sep=',')"
   ]
  },
  {
   "cell_type": "code",
   "execution_count": 35,
   "metadata": {},
   "outputs": [],
   "source": [
    "df = pd.read_csv(r'..\\Source\\pnad_covid.csv', sep=',')"
   ]
  },
  {
   "cell_type": "code",
   "execution_count": 36,
   "metadata": {},
   "outputs": [
    {
     "data": {
      "text/html": [
       "<div>\n",
       "<style scoped>\n",
       "    .dataframe tbody tr th:only-of-type {\n",
       "        vertical-align: middle;\n",
       "    }\n",
       "\n",
       "    .dataframe tbody tr th {\n",
       "        vertical-align: top;\n",
       "    }\n",
       "\n",
       "    .dataframe thead th {\n",
       "        text-align: right;\n",
       "    }\n",
       "</style>\n",
       "<table border=\"1\" class=\"dataframe\">\n",
       "  <thead>\n",
       "    <tr style=\"text-align: right;\">\n",
       "      <th></th>\n",
       "      <th>ano</th>\n",
       "      <th>uf</th>\n",
       "      <th>capital</th>\n",
       "      <th>rm_ride</th>\n",
       "      <th>n_domicilio</th>\n",
       "      <th>n_semana</th>\n",
       "      <th>mes_pesquisa</th>\n",
       "      <th>n_entrevista_domicilio</th>\n",
       "      <th>estrato</th>\n",
       "      <th>unidade_primaria_amostragem</th>\n",
       "      <th>...</th>\n",
       "      <th>buscou_atendimento_posto_ubs_esf</th>\n",
       "      <th>buscou_atendimento_ps_sus_upa</th>\n",
       "      <th>buscou_atendimento_hospital_sus</th>\n",
       "      <th>ficou_internado</th>\n",
       "      <th>internado_risco</th>\n",
       "      <th>possui_plano_saude</th>\n",
       "      <th>respondeu_valor_recebido</th>\n",
       "      <th>valores_recebidos_unidade</th>\n",
       "      <th>valores_recebidos_faixa</th>\n",
       "      <th>valores_recebidos_reais</th>\n",
       "    </tr>\n",
       "  </thead>\n",
       "  <tbody>\n",
       "    <tr>\n",
       "      <th>count</th>\n",
       "      <td>1149197.0</td>\n",
       "      <td>1.149197e+06</td>\n",
       "      <td>270626.000000</td>\n",
       "      <td>363972.000000</td>\n",
       "      <td>1.149197e+06</td>\n",
       "      <td>1.149197e+06</td>\n",
       "      <td>1.149197e+06</td>\n",
       "      <td>1.149197e+06</td>\n",
       "      <td>1.149197e+06</td>\n",
       "      <td>1.149197e+06</td>\n",
       "      <td>...</td>\n",
       "      <td>11796.000000</td>\n",
       "      <td>11796.000000</td>\n",
       "      <td>11796.000000</td>\n",
       "      <td>5830.000000</td>\n",
       "      <td>579.000000</td>\n",
       "      <td>1.149197e+06</td>\n",
       "      <td>425424.0</td>\n",
       "      <td>422909.0</td>\n",
       "      <td>422909.000000</td>\n",
       "      <td>422909.000000</td>\n",
       "    </tr>\n",
       "    <tr>\n",
       "      <th>mean</th>\n",
       "      <td>2020.0</td>\n",
       "      <td>3.161166e+01</td>\n",
       "      <td>30.912691</td>\n",
       "      <td>31.418458</td>\n",
       "      <td>7.477463e+00</td>\n",
       "      <td>2.502238e+00</td>\n",
       "      <td>9.994901e+00</td>\n",
       "      <td>5.994901e+00</td>\n",
       "      <td>3.199047e+06</td>\n",
       "      <td>3.162169e+08</td>\n",
       "      <td>...</td>\n",
       "      <td>1.567565</td>\n",
       "      <td>1.847745</td>\n",
       "      <td>1.881655</td>\n",
       "      <td>1.914580</td>\n",
       "      <td>1.787565</td>\n",
       "      <td>1.788341e+00</td>\n",
       "      <td>1.0</td>\n",
       "      <td>1.0</td>\n",
       "      <td>4.044910</td>\n",
       "      <td>2057.746487</td>\n",
       "    </tr>\n",
       "    <tr>\n",
       "      <th>std</th>\n",
       "      <td>0.0</td>\n",
       "      <td>1.084803e+01</td>\n",
       "      <td>12.968575</td>\n",
       "      <td>9.504648</td>\n",
       "      <td>4.029797e+00</td>\n",
       "      <td>1.114290e+00</td>\n",
       "      <td>8.178678e-01</td>\n",
       "      <td>8.178678e-01</td>\n",
       "      <td>1.085213e+06</td>\n",
       "      <td>1.084968e+08</td>\n",
       "      <td>...</td>\n",
       "      <td>0.760132</td>\n",
       "      <td>0.742722</td>\n",
       "      <td>0.773380</td>\n",
       "      <td>0.357135</td>\n",
       "      <td>0.514278</td>\n",
       "      <td>5.359310e-01</td>\n",
       "      <td>0.0</td>\n",
       "      <td>0.0</td>\n",
       "      <td>1.466444</td>\n",
       "      <td>2870.736335</td>\n",
       "    </tr>\n",
       "    <tr>\n",
       "      <th>min</th>\n",
       "      <td>2020.0</td>\n",
       "      <td>1.100000e+01</td>\n",
       "      <td>11.000000</td>\n",
       "      <td>13.000000</td>\n",
       "      <td>1.000000e+00</td>\n",
       "      <td>1.000000e+00</td>\n",
       "      <td>9.000000e+00</td>\n",
       "      <td>5.000000e+00</td>\n",
       "      <td>1.110011e+06</td>\n",
       "      <td>1.100000e+08</td>\n",
       "      <td>...</td>\n",
       "      <td>1.000000</td>\n",
       "      <td>1.000000</td>\n",
       "      <td>1.000000</td>\n",
       "      <td>1.000000</td>\n",
       "      <td>1.000000</td>\n",
       "      <td>1.000000e+00</td>\n",
       "      <td>1.0</td>\n",
       "      <td>1.0</td>\n",
       "      <td>0.000000</td>\n",
       "      <td>0.000000</td>\n",
       "    </tr>\n",
       "    <tr>\n",
       "      <th>25%</th>\n",
       "      <td>2020.0</td>\n",
       "      <td>2.400000e+01</td>\n",
       "      <td>22.000000</td>\n",
       "      <td>25.000000</td>\n",
       "      <td>4.000000e+00</td>\n",
       "      <td>2.000000e+00</td>\n",
       "      <td>9.000000e+00</td>\n",
       "      <td>5.000000e+00</td>\n",
       "      <td>2.420010e+06</td>\n",
       "      <td>2.400168e+08</td>\n",
       "      <td>...</td>\n",
       "      <td>1.000000</td>\n",
       "      <td>2.000000</td>\n",
       "      <td>2.000000</td>\n",
       "      <td>2.000000</td>\n",
       "      <td>2.000000</td>\n",
       "      <td>2.000000e+00</td>\n",
       "      <td>1.0</td>\n",
       "      <td>1.0</td>\n",
       "      <td>4.000000</td>\n",
       "      <td>1000.000000</td>\n",
       "    </tr>\n",
       "    <tr>\n",
       "      <th>50%</th>\n",
       "      <td>2020.0</td>\n",
       "      <td>3.100000e+01</td>\n",
       "      <td>31.000000</td>\n",
       "      <td>32.000000</td>\n",
       "      <td>7.000000e+00</td>\n",
       "      <td>2.000000e+00</td>\n",
       "      <td>1.000000e+01</td>\n",
       "      <td>6.000000e+00</td>\n",
       "      <td>3.155011e+06</td>\n",
       "      <td>3.103025e+08</td>\n",
       "      <td>...</td>\n",
       "      <td>2.000000</td>\n",
       "      <td>2.000000</td>\n",
       "      <td>2.000000</td>\n",
       "      <td>2.000000</td>\n",
       "      <td>2.000000</td>\n",
       "      <td>2.000000e+00</td>\n",
       "      <td>1.0</td>\n",
       "      <td>1.0</td>\n",
       "      <td>4.000000</td>\n",
       "      <td>1300.000000</td>\n",
       "    </tr>\n",
       "    <tr>\n",
       "      <th>75%</th>\n",
       "      <td>2020.0</td>\n",
       "      <td>4.100000e+01</td>\n",
       "      <td>41.000000</td>\n",
       "      <td>35.000000</td>\n",
       "      <td>1.100000e+01</td>\n",
       "      <td>3.000000e+00</td>\n",
       "      <td>1.100000e+01</td>\n",
       "      <td>7.000000e+00</td>\n",
       "      <td>4.153021e+06</td>\n",
       "      <td>4.100929e+08</td>\n",
       "      <td>...</td>\n",
       "      <td>2.000000</td>\n",
       "      <td>2.000000</td>\n",
       "      <td>2.000000</td>\n",
       "      <td>2.000000</td>\n",
       "      <td>2.000000</td>\n",
       "      <td>2.000000e+00</td>\n",
       "      <td>1.0</td>\n",
       "      <td>1.0</td>\n",
       "      <td>5.000000</td>\n",
       "      <td>2090.000000</td>\n",
       "    </tr>\n",
       "    <tr>\n",
       "      <th>max</th>\n",
       "      <td>2020.0</td>\n",
       "      <td>5.300000e+01</td>\n",
       "      <td>53.000000</td>\n",
       "      <td>52.000000</td>\n",
       "      <td>1.400000e+01</td>\n",
       "      <td>4.000000e+00</td>\n",
       "      <td>1.100000e+01</td>\n",
       "      <td>7.000000e+00</td>\n",
       "      <td>5.310220e+06</td>\n",
       "      <td>5.300511e+08</td>\n",
       "      <td>...</td>\n",
       "      <td>9.000000</td>\n",
       "      <td>9.000000</td>\n",
       "      <td>9.000000</td>\n",
       "      <td>9.000000</td>\n",
       "      <td>9.000000</td>\n",
       "      <td>9.000000e+00</td>\n",
       "      <td>1.0</td>\n",
       "      <td>1.0</td>\n",
       "      <td>9.000000</td>\n",
       "      <td>280000.000000</td>\n",
       "    </tr>\n",
       "  </tbody>\n",
       "</table>\n",
       "<p>8 rows × 29 columns</p>\n",
       "</div>"
      ],
      "text/plain": [
       "             ano            uf        capital        rm_ride   n_domicilio  \\\n",
       "count  1149197.0  1.149197e+06  270626.000000  363972.000000  1.149197e+06   \n",
       "mean      2020.0  3.161166e+01      30.912691      31.418458  7.477463e+00   \n",
       "std          0.0  1.084803e+01      12.968575       9.504648  4.029797e+00   \n",
       "min       2020.0  1.100000e+01      11.000000      13.000000  1.000000e+00   \n",
       "25%       2020.0  2.400000e+01      22.000000      25.000000  4.000000e+00   \n",
       "50%       2020.0  3.100000e+01      31.000000      32.000000  7.000000e+00   \n",
       "75%       2020.0  4.100000e+01      41.000000      35.000000  1.100000e+01   \n",
       "max       2020.0  5.300000e+01      53.000000      52.000000  1.400000e+01   \n",
       "\n",
       "           n_semana  mes_pesquisa  n_entrevista_domicilio       estrato  \\\n",
       "count  1.149197e+06  1.149197e+06            1.149197e+06  1.149197e+06   \n",
       "mean   2.502238e+00  9.994901e+00            5.994901e+00  3.199047e+06   \n",
       "std    1.114290e+00  8.178678e-01            8.178678e-01  1.085213e+06   \n",
       "min    1.000000e+00  9.000000e+00            5.000000e+00  1.110011e+06   \n",
       "25%    2.000000e+00  9.000000e+00            5.000000e+00  2.420010e+06   \n",
       "50%    2.000000e+00  1.000000e+01            6.000000e+00  3.155011e+06   \n",
       "75%    3.000000e+00  1.100000e+01            7.000000e+00  4.153021e+06   \n",
       "max    4.000000e+00  1.100000e+01            7.000000e+00  5.310220e+06   \n",
       "\n",
       "       unidade_primaria_amostragem  ...  buscou_atendimento_posto_ubs_esf  \\\n",
       "count                 1.149197e+06  ...                      11796.000000   \n",
       "mean                  3.162169e+08  ...                          1.567565   \n",
       "std                   1.084968e+08  ...                          0.760132   \n",
       "min                   1.100000e+08  ...                          1.000000   \n",
       "25%                   2.400168e+08  ...                          1.000000   \n",
       "50%                   3.103025e+08  ...                          2.000000   \n",
       "75%                   4.100929e+08  ...                          2.000000   \n",
       "max                   5.300511e+08  ...                          9.000000   \n",
       "\n",
       "       buscou_atendimento_ps_sus_upa  buscou_atendimento_hospital_sus  \\\n",
       "count                   11796.000000                     11796.000000   \n",
       "mean                        1.847745                         1.881655   \n",
       "std                         0.742722                         0.773380   \n",
       "min                         1.000000                         1.000000   \n",
       "25%                         2.000000                         2.000000   \n",
       "50%                         2.000000                         2.000000   \n",
       "75%                         2.000000                         2.000000   \n",
       "max                         9.000000                         9.000000   \n",
       "\n",
       "       ficou_internado  internado_risco  possui_plano_saude  \\\n",
       "count      5830.000000       579.000000        1.149197e+06   \n",
       "mean          1.914580         1.787565        1.788341e+00   \n",
       "std           0.357135         0.514278        5.359310e-01   \n",
       "min           1.000000         1.000000        1.000000e+00   \n",
       "25%           2.000000         2.000000        2.000000e+00   \n",
       "50%           2.000000         2.000000        2.000000e+00   \n",
       "75%           2.000000         2.000000        2.000000e+00   \n",
       "max           9.000000         9.000000        9.000000e+00   \n",
       "\n",
       "       respondeu_valor_recebido  valores_recebidos_unidade  \\\n",
       "count                  425424.0                   422909.0   \n",
       "mean                        1.0                        1.0   \n",
       "std                         0.0                        0.0   \n",
       "min                         1.0                        1.0   \n",
       "25%                         1.0                        1.0   \n",
       "50%                         1.0                        1.0   \n",
       "75%                         1.0                        1.0   \n",
       "max                         1.0                        1.0   \n",
       "\n",
       "       valores_recebidos_faixa  valores_recebidos_reais  \n",
       "count            422909.000000            422909.000000  \n",
       "mean                  4.044910              2057.746487  \n",
       "std                   1.466444              2870.736335  \n",
       "min                   0.000000                 0.000000  \n",
       "25%                   4.000000              1000.000000  \n",
       "50%                   4.000000              1300.000000  \n",
       "75%                   5.000000              2090.000000  \n",
       "max                   9.000000            280000.000000  \n",
       "\n",
       "[8 rows x 29 columns]"
      ]
     },
     "execution_count": 36,
     "metadata": {},
     "output_type": "execute_result"
    }
   ],
   "source": [
    "df.describe()"
   ]
  },
  {
   "cell_type": "code",
   "execution_count": 24,
   "metadata": {},
   "outputs": [
    {
     "name": "stdout",
     "output_type": "stream",
     "text": [
      "<class 'pandas.core.frame.DataFrame'>\n",
      "RangeIndex: 1149197 entries, 0 to 1149196\n",
      "Data columns (total 29 columns):\n",
      " #   Column                            Non-Null Count    Dtype  \n",
      "---  ------                            --------------    -----  \n",
      " 0   ano                               1149197 non-null  int64  \n",
      " 1   uf                                1149197 non-null  int64  \n",
      " 2   capital                           270626 non-null   float64\n",
      " 3   rm_ride                           363972 non-null   float64\n",
      " 4   n_domicilio                       1149197 non-null  int64  \n",
      " 5   n_semana                          1149197 non-null  int64  \n",
      " 6   mes_pesquisa                      1149197 non-null  int64  \n",
      " 7   n_entrevista_domicilio            1149197 non-null  int64  \n",
      " 8   estrato                           1149197 non-null  int64  \n",
      " 9   unidade_primaria_amostragem       1149197 non-null  int64  \n",
      " 10  situacao_domicilio                1149197 non-null  int64  \n",
      " 11  tipo_area                         1149197 non-null  int64  \n",
      " 12  projecao_populacao                1149197 non-null  int64  \n",
      " 13  peso_domicilio_pessoas_com_pos    1149197 non-null  float64\n",
      " 14  peso_domicilio_pessoas_sem_pos    1149197 non-null  float64\n",
      " 15  dominios_projecao                 1149197 non-null  int64  \n",
      " 16  idade_morador                     1149197 non-null  int64  \n",
      " 17  sexo                              1149197 non-null  int64  \n",
      " 18  ficou_em_casa                     33141 non-null    float64\n",
      " 19  buscou_atendimento_posto_ubs_esf  11796 non-null    float64\n",
      " 20  buscou_atendimento_ps_sus_upa     11796 non-null    float64\n",
      " 21  buscou_atendimento_hospital_sus   11796 non-null    float64\n",
      " 22  ficou_internado                   5830 non-null     float64\n",
      " 23  internado_risco                   579 non-null      float64\n",
      " 24  possui_plano_saude                1149197 non-null  int64  \n",
      " 25  respondeu_valor_recebido          425424 non-null   float64\n",
      " 26  valores_recebidos_unidade         422909 non-null   float64\n",
      " 27  valores_recebidos_faixa           422909 non-null   float64\n",
      " 28  valores_recebidos_reais           422909 non-null   float64\n",
      "dtypes: float64(14), int64(15)\n",
      "memory usage: 254.3 MB\n"
     ]
    }
   ],
   "source": [
    "df.info()"
   ]
  },
  {
   "cell_type": "code",
   "execution_count": 63,
   "metadata": {},
   "outputs": [
    {
     "data": {
      "application/vnd.plotly.v1+json": {
       "config": {
        "plotlyServerURL": "https://plot.ly"
       },
       "data": [
        {
         "hole": 0.3,
         "labels": [
          "Homens",
          "Mulheres"
         ],
         "marker": {
          "colors": [
           "gold",
           "mediumturquoise"
          ]
         },
         "type": "pie",
         "values": [
          550656,
          598541
         ]
        }
       ],
       "layout": {
        "template": {
         "data": {
          "bar": [
           {
            "error_x": {
             "color": "#2a3f5f"
            },
            "error_y": {
             "color": "#2a3f5f"
            },
            "marker": {
             "line": {
              "color": "#E5ECF6",
              "width": 0.5
             },
             "pattern": {
              "fillmode": "overlay",
              "size": 10,
              "solidity": 0.2
             }
            },
            "type": "bar"
           }
          ],
          "barpolar": [
           {
            "marker": {
             "line": {
              "color": "#E5ECF6",
              "width": 0.5
             },
             "pattern": {
              "fillmode": "overlay",
              "size": 10,
              "solidity": 0.2
             }
            },
            "type": "barpolar"
           }
          ],
          "carpet": [
           {
            "aaxis": {
             "endlinecolor": "#2a3f5f",
             "gridcolor": "white",
             "linecolor": "white",
             "minorgridcolor": "white",
             "startlinecolor": "#2a3f5f"
            },
            "baxis": {
             "endlinecolor": "#2a3f5f",
             "gridcolor": "white",
             "linecolor": "white",
             "minorgridcolor": "white",
             "startlinecolor": "#2a3f5f"
            },
            "type": "carpet"
           }
          ],
          "choropleth": [
           {
            "colorbar": {
             "outlinewidth": 0,
             "ticks": ""
            },
            "type": "choropleth"
           }
          ],
          "contour": [
           {
            "colorbar": {
             "outlinewidth": 0,
             "ticks": ""
            },
            "colorscale": [
             [
              0,
              "#0d0887"
             ],
             [
              0.1111111111111111,
              "#46039f"
             ],
             [
              0.2222222222222222,
              "#7201a8"
             ],
             [
              0.3333333333333333,
              "#9c179e"
             ],
             [
              0.4444444444444444,
              "#bd3786"
             ],
             [
              0.5555555555555556,
              "#d8576b"
             ],
             [
              0.6666666666666666,
              "#ed7953"
             ],
             [
              0.7777777777777778,
              "#fb9f3a"
             ],
             [
              0.8888888888888888,
              "#fdca26"
             ],
             [
              1,
              "#f0f921"
             ]
            ],
            "type": "contour"
           }
          ],
          "contourcarpet": [
           {
            "colorbar": {
             "outlinewidth": 0,
             "ticks": ""
            },
            "type": "contourcarpet"
           }
          ],
          "heatmap": [
           {
            "colorbar": {
             "outlinewidth": 0,
             "ticks": ""
            },
            "colorscale": [
             [
              0,
              "#0d0887"
             ],
             [
              0.1111111111111111,
              "#46039f"
             ],
             [
              0.2222222222222222,
              "#7201a8"
             ],
             [
              0.3333333333333333,
              "#9c179e"
             ],
             [
              0.4444444444444444,
              "#bd3786"
             ],
             [
              0.5555555555555556,
              "#d8576b"
             ],
             [
              0.6666666666666666,
              "#ed7953"
             ],
             [
              0.7777777777777778,
              "#fb9f3a"
             ],
             [
              0.8888888888888888,
              "#fdca26"
             ],
             [
              1,
              "#f0f921"
             ]
            ],
            "type": "heatmap"
           }
          ],
          "heatmapgl": [
           {
            "colorbar": {
             "outlinewidth": 0,
             "ticks": ""
            },
            "colorscale": [
             [
              0,
              "#0d0887"
             ],
             [
              0.1111111111111111,
              "#46039f"
             ],
             [
              0.2222222222222222,
              "#7201a8"
             ],
             [
              0.3333333333333333,
              "#9c179e"
             ],
             [
              0.4444444444444444,
              "#bd3786"
             ],
             [
              0.5555555555555556,
              "#d8576b"
             ],
             [
              0.6666666666666666,
              "#ed7953"
             ],
             [
              0.7777777777777778,
              "#fb9f3a"
             ],
             [
              0.8888888888888888,
              "#fdca26"
             ],
             [
              1,
              "#f0f921"
             ]
            ],
            "type": "heatmapgl"
           }
          ],
          "histogram": [
           {
            "marker": {
             "pattern": {
              "fillmode": "overlay",
              "size": 10,
              "solidity": 0.2
             }
            },
            "type": "histogram"
           }
          ],
          "histogram2d": [
           {
            "colorbar": {
             "outlinewidth": 0,
             "ticks": ""
            },
            "colorscale": [
             [
              0,
              "#0d0887"
             ],
             [
              0.1111111111111111,
              "#46039f"
             ],
             [
              0.2222222222222222,
              "#7201a8"
             ],
             [
              0.3333333333333333,
              "#9c179e"
             ],
             [
              0.4444444444444444,
              "#bd3786"
             ],
             [
              0.5555555555555556,
              "#d8576b"
             ],
             [
              0.6666666666666666,
              "#ed7953"
             ],
             [
              0.7777777777777778,
              "#fb9f3a"
             ],
             [
              0.8888888888888888,
              "#fdca26"
             ],
             [
              1,
              "#f0f921"
             ]
            ],
            "type": "histogram2d"
           }
          ],
          "histogram2dcontour": [
           {
            "colorbar": {
             "outlinewidth": 0,
             "ticks": ""
            },
            "colorscale": [
             [
              0,
              "#0d0887"
             ],
             [
              0.1111111111111111,
              "#46039f"
             ],
             [
              0.2222222222222222,
              "#7201a8"
             ],
             [
              0.3333333333333333,
              "#9c179e"
             ],
             [
              0.4444444444444444,
              "#bd3786"
             ],
             [
              0.5555555555555556,
              "#d8576b"
             ],
             [
              0.6666666666666666,
              "#ed7953"
             ],
             [
              0.7777777777777778,
              "#fb9f3a"
             ],
             [
              0.8888888888888888,
              "#fdca26"
             ],
             [
              1,
              "#f0f921"
             ]
            ],
            "type": "histogram2dcontour"
           }
          ],
          "mesh3d": [
           {
            "colorbar": {
             "outlinewidth": 0,
             "ticks": ""
            },
            "type": "mesh3d"
           }
          ],
          "parcoords": [
           {
            "line": {
             "colorbar": {
              "outlinewidth": 0,
              "ticks": ""
             }
            },
            "type": "parcoords"
           }
          ],
          "pie": [
           {
            "automargin": true,
            "type": "pie"
           }
          ],
          "scatter": [
           {
            "fillpattern": {
             "fillmode": "overlay",
             "size": 10,
             "solidity": 0.2
            },
            "type": "scatter"
           }
          ],
          "scatter3d": [
           {
            "line": {
             "colorbar": {
              "outlinewidth": 0,
              "ticks": ""
             }
            },
            "marker": {
             "colorbar": {
              "outlinewidth": 0,
              "ticks": ""
             }
            },
            "type": "scatter3d"
           }
          ],
          "scattercarpet": [
           {
            "marker": {
             "colorbar": {
              "outlinewidth": 0,
              "ticks": ""
             }
            },
            "type": "scattercarpet"
           }
          ],
          "scattergeo": [
           {
            "marker": {
             "colorbar": {
              "outlinewidth": 0,
              "ticks": ""
             }
            },
            "type": "scattergeo"
           }
          ],
          "scattergl": [
           {
            "marker": {
             "colorbar": {
              "outlinewidth": 0,
              "ticks": ""
             }
            },
            "type": "scattergl"
           }
          ],
          "scattermapbox": [
           {
            "marker": {
             "colorbar": {
              "outlinewidth": 0,
              "ticks": ""
             }
            },
            "type": "scattermapbox"
           }
          ],
          "scatterpolar": [
           {
            "marker": {
             "colorbar": {
              "outlinewidth": 0,
              "ticks": ""
             }
            },
            "type": "scatterpolar"
           }
          ],
          "scatterpolargl": [
           {
            "marker": {
             "colorbar": {
              "outlinewidth": 0,
              "ticks": ""
             }
            },
            "type": "scatterpolargl"
           }
          ],
          "scatterternary": [
           {
            "marker": {
             "colorbar": {
              "outlinewidth": 0,
              "ticks": ""
             }
            },
            "type": "scatterternary"
           }
          ],
          "surface": [
           {
            "colorbar": {
             "outlinewidth": 0,
             "ticks": ""
            },
            "colorscale": [
             [
              0,
              "#0d0887"
             ],
             [
              0.1111111111111111,
              "#46039f"
             ],
             [
              0.2222222222222222,
              "#7201a8"
             ],
             [
              0.3333333333333333,
              "#9c179e"
             ],
             [
              0.4444444444444444,
              "#bd3786"
             ],
             [
              0.5555555555555556,
              "#d8576b"
             ],
             [
              0.6666666666666666,
              "#ed7953"
             ],
             [
              0.7777777777777778,
              "#fb9f3a"
             ],
             [
              0.8888888888888888,
              "#fdca26"
             ],
             [
              1,
              "#f0f921"
             ]
            ],
            "type": "surface"
           }
          ],
          "table": [
           {
            "cells": {
             "fill": {
              "color": "#EBF0F8"
             },
             "line": {
              "color": "white"
             }
            },
            "header": {
             "fill": {
              "color": "#C8D4E3"
             },
             "line": {
              "color": "white"
             }
            },
            "type": "table"
           }
          ]
         },
         "layout": {
          "annotationdefaults": {
           "arrowcolor": "#2a3f5f",
           "arrowhead": 0,
           "arrowwidth": 1
          },
          "autotypenumbers": "strict",
          "coloraxis": {
           "colorbar": {
            "outlinewidth": 0,
            "ticks": ""
           }
          },
          "colorscale": {
           "diverging": [
            [
             0,
             "#8e0152"
            ],
            [
             0.1,
             "#c51b7d"
            ],
            [
             0.2,
             "#de77ae"
            ],
            [
             0.3,
             "#f1b6da"
            ],
            [
             0.4,
             "#fde0ef"
            ],
            [
             0.5,
             "#f7f7f7"
            ],
            [
             0.6,
             "#e6f5d0"
            ],
            [
             0.7,
             "#b8e186"
            ],
            [
             0.8,
             "#7fbc41"
            ],
            [
             0.9,
             "#4d9221"
            ],
            [
             1,
             "#276419"
            ]
           ],
           "sequential": [
            [
             0,
             "#0d0887"
            ],
            [
             0.1111111111111111,
             "#46039f"
            ],
            [
             0.2222222222222222,
             "#7201a8"
            ],
            [
             0.3333333333333333,
             "#9c179e"
            ],
            [
             0.4444444444444444,
             "#bd3786"
            ],
            [
             0.5555555555555556,
             "#d8576b"
            ],
            [
             0.6666666666666666,
             "#ed7953"
            ],
            [
             0.7777777777777778,
             "#fb9f3a"
            ],
            [
             0.8888888888888888,
             "#fdca26"
            ],
            [
             1,
             "#f0f921"
            ]
           ],
           "sequentialminus": [
            [
             0,
             "#0d0887"
            ],
            [
             0.1111111111111111,
             "#46039f"
            ],
            [
             0.2222222222222222,
             "#7201a8"
            ],
            [
             0.3333333333333333,
             "#9c179e"
            ],
            [
             0.4444444444444444,
             "#bd3786"
            ],
            [
             0.5555555555555556,
             "#d8576b"
            ],
            [
             0.6666666666666666,
             "#ed7953"
            ],
            [
             0.7777777777777778,
             "#fb9f3a"
            ],
            [
             0.8888888888888888,
             "#fdca26"
            ],
            [
             1,
             "#f0f921"
            ]
           ]
          },
          "colorway": [
           "#636efa",
           "#EF553B",
           "#00cc96",
           "#ab63fa",
           "#FFA15A",
           "#19d3f3",
           "#FF6692",
           "#B6E880",
           "#FF97FF",
           "#FECB52"
          ],
          "font": {
           "color": "#2a3f5f"
          },
          "geo": {
           "bgcolor": "white",
           "lakecolor": "white",
           "landcolor": "#E5ECF6",
           "showlakes": true,
           "showland": true,
           "subunitcolor": "white"
          },
          "hoverlabel": {
           "align": "left"
          },
          "hovermode": "closest",
          "mapbox": {
           "style": "light"
          },
          "paper_bgcolor": "white",
          "plot_bgcolor": "#E5ECF6",
          "polar": {
           "angularaxis": {
            "gridcolor": "white",
            "linecolor": "white",
            "ticks": ""
           },
           "bgcolor": "#E5ECF6",
           "radialaxis": {
            "gridcolor": "white",
            "linecolor": "white",
            "ticks": ""
           }
          },
          "scene": {
           "xaxis": {
            "backgroundcolor": "#E5ECF6",
            "gridcolor": "white",
            "gridwidth": 2,
            "linecolor": "white",
            "showbackground": true,
            "ticks": "",
            "zerolinecolor": "white"
           },
           "yaxis": {
            "backgroundcolor": "#E5ECF6",
            "gridcolor": "white",
            "gridwidth": 2,
            "linecolor": "white",
            "showbackground": true,
            "ticks": "",
            "zerolinecolor": "white"
           },
           "zaxis": {
            "backgroundcolor": "#E5ECF6",
            "gridcolor": "white",
            "gridwidth": 2,
            "linecolor": "white",
            "showbackground": true,
            "ticks": "",
            "zerolinecolor": "white"
           }
          },
          "shapedefaults": {
           "line": {
            "color": "#2a3f5f"
           }
          },
          "ternary": {
           "aaxis": {
            "gridcolor": "white",
            "linecolor": "white",
            "ticks": ""
           },
           "baxis": {
            "gridcolor": "white",
            "linecolor": "white",
            "ticks": ""
           },
           "bgcolor": "#E5ECF6",
           "caxis": {
            "gridcolor": "white",
            "linecolor": "white",
            "ticks": ""
           }
          },
          "title": {
           "x": 0.05
          },
          "xaxis": {
           "automargin": true,
           "gridcolor": "white",
           "linecolor": "white",
           "ticks": "",
           "title": {
            "standoff": 15
           },
           "zerolinecolor": "white",
           "zerolinewidth": 2
          },
          "yaxis": {
           "automargin": true,
           "gridcolor": "white",
           "linecolor": "white",
           "ticks": "",
           "title": {
            "standoff": 15
           },
           "zerolinecolor": "white",
           "zerolinewidth": 2
          }
         }
        }
       }
      }
     },
     "metadata": {},
     "output_type": "display_data"
    }
   ],
   "source": [
    "# Suponha que temos os seguintes dados\n",
    "homens = df.loc[df['sexo'] == 1].shape[0]\n",
    "mulheres = df.loc[df['sexo'] == 2].shape[0]\n",
    "\n",
    "# Criamos uma lista com os valores\n",
    "valores = [homens, mulheres]\n",
    "\n",
    "# E uma lista com os labels\n",
    "labels = ['Homens', 'Mulheres']\n",
    "\n",
    "# Agora criamos o gráfico de pizza\n",
    "fig = go.Figure(data=[go.Pie(labels=labels, values=valores, hole=.3, marker=dict(colors=['gold', 'mediumturquoise']))])\n",
    "# fig.update_layout(font_color='white')\n",
    "\n",
    "# E finalmente mostramos o gráfico\n",
    "fig.show()\n"
   ]
  },
  {
   "cell_type": "code",
   "execution_count": 45,
   "metadata": {},
   "outputs": [
    {
     "data": {
      "text/plain": [
       "550656"
      ]
     },
     "execution_count": 45,
     "metadata": {},
     "output_type": "execute_result"
    }
   ],
   "source": [
    "df.loc[df['sexo'] == 1].shape[0]"
   ]
  },
  {
   "cell_type": "code",
   "execution_count": 38,
   "metadata": {},
   "outputs": [
    {
     "data": {
      "text/plain": [
       "130047346    231\n",
       "150043912    228\n",
       "130050851    224\n",
       "130035590    207\n",
       "140007715    195\n",
       "            ... \n",
       "270008865      3\n",
       "270036277      3\n",
       "270040684      2\n",
       "270025016      1\n",
       "120002763      1\n",
       "Name: unidade_primaria_amostragem, Length: 15006, dtype: int64"
      ]
     },
     "execution_count": 38,
     "metadata": {},
     "output_type": "execute_result"
    }
   ],
   "source": [
    "df['unidade_primaria_amostragem'].value_counts()"
   ]
  },
  {
   "cell_type": "code",
   "execution_count": 40,
   "metadata": {},
   "outputs": [
    {
     "data": {
      "text/plain": [
       "(1149197, 29)"
      ]
     },
     "execution_count": 40,
     "metadata": {},
     "output_type": "execute_result"
    }
   ],
   "source": [
    "df.shape"
   ]
  },
  {
   "cell_type": "code",
   "execution_count": null,
   "metadata": {},
   "outputs": [],
   "source": []
  }
 ],
 "metadata": {
  "kernelspec": {
   "display_name": "Python 3",
   "language": "python",
   "name": "python3"
  },
  "language_info": {
   "codemirror_mode": {
    "name": "ipython",
    "version": 3
   },
   "file_extension": ".py",
   "mimetype": "text/x-python",
   "name": "python",
   "nbconvert_exporter": "python",
   "pygments_lexer": "ipython3",
   "version": "3.9.13"
  }
 },
 "nbformat": 4,
 "nbformat_minor": 2
}
